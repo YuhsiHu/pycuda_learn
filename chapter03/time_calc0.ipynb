{
 "cells": [
  {
   "attachments": {},
   "cell_type": "markdown",
   "metadata": {},
   "source": [
    "编写一个小程序，分别在CPU和GPU上进行同样的标量乘法运算，并就两者的速度加以比较。"
   ]
  },
  {
   "cell_type": "code",
   "execution_count": 2,
   "metadata": {},
   "outputs": [
    {
     "name": "stdout",
     "output_type": "stream",
     "text": [
      "total time to compute on CPU: 0.068964\n",
      "total time to compute on GPU: 0.002274\n",
      "Is the host computation the same as the GPU computation? : True\n"
     ]
    }
   ],
   "source": [
    "import numpy as np\n",
    "import pycuda.autoinit\n",
    "from pycuda import gpuarray\n",
    "from time import time\n",
    "\n",
    "# 创建一个包含5000万个32位随机浮点数的数组，大约相当于48MB的数据\n",
    "host_data = np.float32( np.random.random(50000000) )\n",
    "# 分别统计数组乘标量2在CPU与GPU上消耗的时间\n",
    "t1 = time()\n",
    "host_data_2x = host_data * np.float32(2)\n",
    "t2 = time()\n",
    "print('total time to compute on CPU: %f' % (t2 - t1))\n",
    "\n",
    "device_data = gpuarray.to_gpu(host_data)\n",
    "t1 = time()\n",
    "device_data_2x = device_data * np.float32(2)\n",
    "t2 = time()\n",
    "\n",
    "from_device = device_data_2x.get()\n",
    "\n",
    "print('total time to compute on GPU: %f' % (t2 - t1))\n",
    "print('Is the host computation the same as the GPU computation? : {}'.format(np.allclose(from_device, host_data_2x) ))"
   ]
  },
  {
   "cell_type": "code",
   "execution_count": null,
   "metadata": {},
   "outputs": [],
   "source": []
  }
 ],
 "metadata": {
  "kernelspec": {
   "display_name": "pycuda",
   "language": "python",
   "name": "python3"
  },
  "language_info": {
   "codemirror_mode": {
    "name": "ipython",
    "version": 3
   },
   "file_extension": ".py",
   "mimetype": "text/x-python",
   "name": "python",
   "nbconvert_exporter": "python",
   "pygments_lexer": "ipython3",
   "version": "3.8.16"
  },
  "orig_nbformat": 4
 },
 "nbformat": 4,
 "nbformat_minor": 2
}
