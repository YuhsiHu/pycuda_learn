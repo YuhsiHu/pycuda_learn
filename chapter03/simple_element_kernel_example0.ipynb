{
 "cells": [
  {
   "attachments": {},
   "cell_type": "markdown",
   "metadata": {},
   "source": [
    "重写代码，通过CUDA C代码将gpuarray对象的每个元素都乘2，然后使用pycuda库中的ElementwiseKernel函数来生成代码。"
   ]
  },
  {
   "cell_type": "code",
   "execution_count": 11,
   "metadata": {},
   "outputs": [
    {
     "name": "stdout",
     "output_type": "stream",
     "text": [
      "total time to compute on CPU: 0.067535\n",
      "total time to compute on GPU: 0.113093\n",
      "Is the host computation the same as the GPU computation? : True\n"
     ]
    }
   ],
   "source": [
    "import numpy as np\n",
    "import pycuda.autoinit\n",
    "from pycuda import gpuarray\n",
    "from time import time\n",
    "from pycuda.elementwise import ElementwiseKernel\n",
    "\n",
    "host_data = np.float32( np.random.random(50000000) )\n",
    "\n",
    "gpu_2x_ker = ElementwiseKernel(\n",
    "\"float *in, float *out\", # 设置输入和输出变量\n",
    "\"out[i] = 2*in[i];\", # 定义逐个元素的运算\n",
    "\"gpu_2x_ker\") # 起一个CUDA C内核函数名称\n",
    "\n",
    "def speedcomparison():\n",
    "    t1 = time()\n",
    "    host_data_2x =  host_data * np.float32(2)\n",
    "    t2 = time()\n",
    "    print('total time to compute on CPU: %f' % (t2 - t1))\n",
    "    device_data = gpuarray.to_gpu(host_data)\n",
    "    # allocate memory for output\n",
    "    device_data_2x = gpuarray.empty_like(device_data)\n",
    "    t1 = time()\n",
    "    gpu_2x_ker(device_data, device_data_2x)\n",
    "    t2 = time()\n",
    "    from_device = device_data_2x.get()\n",
    "    print('total time to compute on GPU: %f' % (t2 - t1))\n",
    "    print('Is the host computation the same as the GPU computation? : {}'.format(np.allclose(from_device, host_data_2x) ))\n",
    "    \n",
    "\n",
    "if __name__ == '__main__':\n",
    "    speedcomparison()"
   ]
  },
  {
   "cell_type": "code",
   "execution_count": null,
   "metadata": {},
   "outputs": [],
   "source": []
  }
 ],
 "metadata": {
  "kernelspec": {
   "display_name": "pycuda",
   "language": "python",
   "name": "python3"
  },
  "language_info": {
   "codemirror_mode": {
    "name": "ipython",
    "version": 3
   },
   "file_extension": ".py",
   "mimetype": "text/x-python",
   "name": "python",
   "nbconvert_exporter": "python",
   "pygments_lexer": "ipython3",
   "version": "3.8.16"
  },
  "orig_nbformat": 4
 },
 "nbformat": 4,
 "nbformat_minor": 2
}
