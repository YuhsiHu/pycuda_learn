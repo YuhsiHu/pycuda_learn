{
 "cells": [
  {
   "attachments": {},
   "cell_type": "markdown",
   "metadata": {},
   "source": [
    "# 线程安全的原子操作\n",
    "一个简单的原子操作的例子，将一个变量设置为0，然后每个线程都在这个变量上面加1，找到所有线程的最大线程ID值"
   ]
  },
  {
   "cell_type": "code",
   "execution_count": 1,
   "metadata": {},
   "outputs": [
    {
     "name": "stdout",
     "output_type": "stream",
     "text": [
      "Atomic operations test:\n",
      "add_out: 100\n",
      "max_out: 99\n"
     ]
    }
   ],
   "source": [
    "from __future__ import division\n",
    "import numpy as np\n",
    "from pycuda.compiler import SourceModule\n",
    "import pycuda.autoinit\n",
    "from pycuda import gpuarray\n",
    "import pycuda.driver as drv\n",
    "\n",
    "AtomicCode='''\n",
    "__global__ void atomic_ker(int *add_out, int *max_out) \n",
    "{\n",
    " int tid = blockIdx.x*blockDim.x + threadIdx.x;\n",
    " \n",
    " // sets *add_out to 0.  Thread-safe.\n",
    " \n",
    " atomicExch(add_out, 0);\n",
    " __syncthreads();\n",
    " \n",
    " // adds \"1\" to *add_out for each thread.\n",
    " atomicAdd(add_out, 1);\n",
    " \n",
    " // sets max_out to the maximum value submitted across all threads.\n",
    " atomicMax(max_out, tid);\n",
    "}\n",
    "'''\n",
    "\n",
    "atomic_mod = SourceModule(AtomicCode)\n",
    "atomic_ker = atomic_mod.get_function('atomic_ker')\n",
    "\n",
    "add_out = gpuarray.empty((1,), dtype=np.int32)\n",
    "max_out = gpuarray.empty((1,), dtype=np.int32)\n",
    "\n",
    "atomic_ker(add_out, max_out, grid=(1,1,1), block=(100,1,1))\n",
    "drv.Context.synchronize()\n",
    "\n",
    "print('Atomic operations test:')\n",
    "print('add_out: %s' % add_out.get()[0])\n",
    "print('max_out: %s' % max_out.get()[0])"
   ]
  },
  {
   "cell_type": "code",
   "execution_count": null,
   "metadata": {},
   "outputs": [],
   "source": []
  }
 ],
 "metadata": {
  "kernelspec": {
   "display_name": "pycuda",
   "language": "python",
   "name": "python3"
  },
  "language_info": {
   "codemirror_mode": {
    "name": "ipython",
    "version": 3
   },
   "file_extension": ".py",
   "mimetype": "text/x-python",
   "name": "python",
   "nbconvert_exporter": "python",
   "pygments_lexer": "ipython3",
   "version": "3.8.16"
  },
  "orig_nbformat": 4,
  "vscode": {
   "interpreter": {
    "hash": "33982229682c888955ca524121202fe70bc1f8616e2a0962e61b4bee7840fbc6"
   }
  }
 },
 "nbformat": 4,
 "nbformat_minor": 2
}
