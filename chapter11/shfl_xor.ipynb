{
 "cells": [
  {
   "attachments": {},
   "cell_type": "markdown",
   "metadata": {},
   "source": [
    "# 线程束洗牌\n",
    "使用 **__shfl_xor** 在索引为偶数和奇数的束内线程之间交换特定变量的值。\n",
    "书中的函数 **__shfl_xor** 已在CUDA 9之后弃用，变更为 **__shfl_xor_sync** 。文档参考[此处](https://docs.nvidia.com/cuda/cuda-c-programming-guide/index.html#warp-shuffle-functions)。"
   ]
  },
  {
   "cell_type": "code",
   "execution_count": 2,
   "metadata": {},
   "outputs": [
    {
     "name": "stdout",
     "output_type": "stream",
     "text": [
      "input array: [ 0  1  2  3  4  5  6  7  8  9 10 11 12 13 14 15 16 17 18 19 20 21 22 23\n",
      " 24 25 26 27 28 29 30 31]\n",
      "array after __shfl_xor: [1 1 1 1 1 1 1 1 1 1 1 1 1 1 1 1 1 1 1 1 1 1 1 1 1 1 1 1 1 1 1 1]\n"
     ]
    }
   ],
   "source": [
    "from __future__ import division\n",
    "import numpy as np\n",
    "from pycuda.compiler import SourceModule\n",
    "import pycuda.autoinit\n",
    "from pycuda import gpuarray\n",
    "\n",
    "\n",
    "ShflCode='''\n",
    "__global__ void shfl_xor_ker(int *input, int * output) {\n",
    "int temp = input[threadIdx.x];\n",
    "temp = __shfl_xor_sync(temp, 1, blockDim.x);\n",
    "output[threadIdx.x] = temp;\n",
    "}'''\n",
    "\n",
    "shfl_mod = SourceModule(ShflCode)\n",
    "shfl_ker = shfl_mod.get_function('shfl_xor_ker')\n",
    "\n",
    "dinput = gpuarray.to_gpu(np.int32(range(32)))\n",
    "doutout = gpuarray.empty_like(dinput)\n",
    "\n",
    "shfl_ker(dinput, doutout, grid=(1,1,1), block=(32,1,1))\n",
    "\n",
    "print('input array: %s' % dinput.get())\n",
    "print('array after __shfl_xor: %s' % doutout.get())"
   ]
  },
  {
   "cell_type": "code",
   "execution_count": null,
   "metadata": {},
   "outputs": [],
   "source": []
  }
 ],
 "metadata": {
  "kernelspec": {
   "display_name": "pycuda",
   "language": "python",
   "name": "python3"
  },
  "language_info": {
   "codemirror_mode": {
    "name": "ipython",
    "version": 3
   },
   "file_extension": ".py",
   "mimetype": "text/x-python",
   "name": "python",
   "nbconvert_exporter": "python",
   "pygments_lexer": "ipython3",
   "version": "3.8.16"
  },
  "orig_nbformat": 4,
  "vscode": {
   "interpreter": {
    "hash": "33982229682c888955ca524121202fe70bc1f8616e2a0962e61b4bee7840fbc6"
   }
  }
 },
 "nbformat": 4,
 "nbformat_minor": 2
}
