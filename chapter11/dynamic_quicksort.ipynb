{
 "cells": [
  {
   "attachments": {},
   "cell_type": "markdown",
   "metadata": {},
   "source": [
    "# 基于动态并行性的快速排序算法"
   ]
  },
  {
   "cell_type": "code",
   "execution_count": 2,
   "metadata": {},
   "outputs": [
    {
     "name": "stdout",
     "output_type": "stream",
     "text": [
      "Unsorted array: [ 9 33  7 30 71 17 10 41 42 70 82 44 18 45  3 46  6 19 89 34 27 23  5 14\n",
      " 76 66 28 85 84 13 26  0 16 77 60 22 72 79 98 83 56 61 36 86 38 57 88 20\n",
      " 50 53 74 97 92 37 64 67 12 58 69 32 35 24 87 52 11 47 90 96 29 31 51 40\n",
      " 91 68 78 54  8 59 39 94 63 75 95  2 25 55 80  1 49 99 21 81 93 73 43 65\n",
      " 15 48  4 62]\n",
      "Sorted array: [0, 1, 2, 3, 4, 5, 6, 7, 8, 9, 10, 11, 12, 13, 14, 15, 16, 17, 18, 19, 20, 21, 22, 23, 24, 25, 26, 27, 28, 29, 30, 31, 32, 33, 34, 35, 36, 37, 38, 39, 40, 41, 42, 43, 44, 45, 46, 47, 48, 49, 50, 51, 52, 53, 54, 55, 56, 57, 58, 59, 60, 61, 62, 63, 64, 65, 66, 67, 68, 69, 70, 71, 72, 73, 74, 75, 76, 77, 78, 79, 80, 81, 82, 83, 84, 85, 86, 87, 88, 89, 90, 91, 92, 93, 94, 95, 96, 97, 98, 99]\n"
     ]
    }
   ],
   "source": [
    "from __future__ import division\n",
    "import numpy as np\n",
    "from pycuda.compiler import DynamicSourceModule\n",
    "import pycuda.autoinit\n",
    "from pycuda import gpuarray\n",
    "from random import shuffle\n",
    "\n",
    "DynamicQuicksortCode='''\n",
    "__device__ int partition(int * a, int lo, int hi)\n",
    "{\n",
    " int i = lo;\n",
    " int pivot = a[hi];\n",
    " int temp;\n",
    " for (int k=lo; k<hi; k++)\n",
    " {\n",
    "  if (a[k] < pivot)\n",
    "  {\n",
    "   temp = a[k];\n",
    "   a[k] = a[i];\n",
    "   a[i] = temp;\n",
    "   i++;\n",
    "  }\n",
    " }\n",
    " \n",
    " a[hi] = a[i];\n",
    " a[i] = pivot;\n",
    "  \n",
    " return i;\n",
    "}\n",
    "  \n",
    "__global__ void quicksort_ker(int *a, int lo, int hi)\n",
    "{\n",
    " cudaStream_t s_left, s_right; \n",
    " cudaStreamCreateWithFlags(&s_left, cudaStreamNonBlocking);\n",
    " cudaStreamCreateWithFlags(&s_right, cudaStreamNonBlocking);\n",
    " \n",
    " int mid = partition(a, lo, hi);\n",
    "  \n",
    " if(mid - 1 - lo > 0)\n",
    "   quicksort_ker<<< 1, 1, 0, s_left >>>(a, lo, mid - 1);\n",
    " if(hi - (mid + 1) > 0)\n",
    "   quicksort_ker<<< 1, 1, 0, s_right >>>(a, mid + 1, hi);\n",
    "    \n",
    " cudaStreamDestroy(s_left);\n",
    " cudaStreamDestroy(s_right);\n",
    "}\n",
    "'''\n",
    "\n",
    "qsort_mod = DynamicSourceModule(DynamicQuicksortCode)\n",
    "\n",
    "qsort_ker = qsort_mod.get_function('quicksort_ker')\n",
    "\n",
    "if __name__ == '__main__':\n",
    "    a = list(range(100))\n",
    "    shuffle(a)\n",
    "    \n",
    "    a = np.int32(a)\n",
    "    \n",
    "    d_a = gpuarray.to_gpu(a)\n",
    "    \n",
    "    print('Unsorted array: %s' % a)\n",
    "    \n",
    "    qsort_ker(d_a, np.int32(0), np.int32(a.size - 1), grid=(1,1,1), block=(1,1,1))\n",
    "    \n",
    "    a_sorted = list(d_a.get())\n",
    "    \n",
    "    print('Sorted array: %s' % a_sorted)"
   ]
  },
  {
   "cell_type": "code",
   "execution_count": null,
   "metadata": {},
   "outputs": [],
   "source": []
  }
 ],
 "metadata": {
  "kernelspec": {
   "display_name": "pycuda",
   "language": "python",
   "name": "python3"
  },
  "language_info": {
   "codemirror_mode": {
    "name": "ipython",
    "version": 3
   },
   "file_extension": ".py",
   "mimetype": "text/x-python",
   "name": "python",
   "nbconvert_exporter": "python",
   "pygments_lexer": "ipython3",
   "version": "3.8.16"
  },
  "orig_nbformat": 4,
  "vscode": {
   "interpreter": {
    "hash": "33982229682c888955ca524121202fe70bc1f8616e2a0962e61b4bee7840fbc6"
   }
  }
 },
 "nbformat": 4,
 "nbformat_minor": 2
}
