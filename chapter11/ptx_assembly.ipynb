{
 "cells": [
  {
   "cell_type": "code",
   "execution_count": 1,
   "metadata": {},
   "outputs": [
    {
     "name": "stdout",
     "output_type": "stream",
     "text": [
      "x is 123 \n",
      "x is now 0 \n",
      "x is now 1 \n",
      "f is now 3.330000  \n",
      "lane ID: 0 \n",
      "Do split64 / combine64 work? : true \n"
     ]
    }
   ],
   "source": [
    "from __future__ import division\n",
    "import numpy as np\n",
    "from pycuda.compiler import SourceModule\n",
    "import pycuda.autoinit\n",
    "from pycuda import gpuarray\n",
    "\n",
    "PtxCode='''\n",
    "__device__ void set_to_zero(int &x)\n",
    "{\n",
    " asm(\"mov.s32 %0, 0;\" : \"=r\"(x));\n",
    "}\n",
    "__device__ void add_floats(float &out, float in1, float  in2)\n",
    "{\n",
    " asm(\"add.f32 %0, %1, %2 ;\" : \"=f\"(out) : \"f\"(in1) , \"f\"(in2));\n",
    "}\n",
    "__device__ void plusplus(int &x)\n",
    "{\n",
    " asm(\"add.s32 %0, %0, 1;\" : \"+r\"(x));\n",
    "}\n",
    "__device__  int laneid()\n",
    "{\n",
    " int id; \n",
    " asm(\"mov.u32 %0, %%laneid; \" : \"=r\"(id)); \n",
    " return id;\n",
    "}\n",
    "__device__ void split64(double val, int & lo, int & hi)\n",
    "{\n",
    " asm volatile(\"mov.b64 {%0, %1}, %2; \":\"=r\"(lo),\"=r\"(hi):\"d\"(val));\n",
    "}\n",
    "__device__ void combine64(double &val, int lo, int hi)\n",
    "{\n",
    " asm volatile(\"mov.b64 %0, {%1, %2}; \":\"=d\"(val):\"r\"(lo),\"r\"(hi));\n",
    "}\n",
    "__global__ void ptx_test_ker() {     \n",
    " int x=123;\n",
    " \n",
    " printf(\"x is %d \\\\n\", x);\n",
    " \n",
    " set_to_zero(x);\n",
    " \n",
    " printf(\"x is now %d \\\\n\", x);\n",
    " \n",
    " plusplus(x);\n",
    " \n",
    " printf(\"x is now %d \\\\n\", x);\n",
    " \n",
    " float f;\n",
    " \n",
    " add_floats(f, 1.11, 2.22 );\n",
    " \n",
    " printf(\"f is now %f  \\\\n\", f);\n",
    " \n",
    " printf(\"lane ID: %d \\\\n\", laneid() );\n",
    " \n",
    " double orig = 3.1415;\n",
    " int t1, t2;\n",
    " \n",
    " split64(orig, t1, t2);\n",
    " \n",
    " double recon;\n",
    " \n",
    " combine64(recon, t1, t2);\n",
    " \n",
    " printf(\"Do split64 / combine64 work? : %s \\\\n\", (orig == recon) ? \"true\" : \"false\"); \n",
    " \n",
    "}'''\n",
    "\n",
    "ptx_mod = SourceModule(PtxCode)\n",
    "ptx_test_ker = ptx_mod.get_function('ptx_test_ker')\n",
    "ptx_test_ker(grid=(1,1,1), block=(1,1,1))"
   ]
  },
  {
   "cell_type": "code",
   "execution_count": null,
   "metadata": {},
   "outputs": [],
   "source": []
  }
 ],
 "metadata": {
  "kernelspec": {
   "display_name": "pycuda",
   "language": "python",
   "name": "python3"
  },
  "language_info": {
   "codemirror_mode": {
    "name": "ipython",
    "version": 3
   },
   "file_extension": ".py",
   "mimetype": "text/x-python",
   "name": "python",
   "nbconvert_exporter": "python",
   "pygments_lexer": "ipython3",
   "version": "3.8.16"
  },
  "orig_nbformat": 4,
  "vscode": {
   "interpreter": {
    "hash": "33982229682c888955ca524121202fe70bc1f8616e2a0962e61b4bee7840fbc6"
   }
  }
 },
 "nbformat": 4,
 "nbformat_minor": 2
}
