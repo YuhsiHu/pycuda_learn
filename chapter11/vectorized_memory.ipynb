{
 "cells": [
  {
   "cell_type": "code",
   "execution_count": 1,
   "metadata": {},
   "outputs": [
    {
     "name": "stdout",
     "output_type": "stream",
     "text": [
      "Vectorized Memory Test:\n"
     ]
    },
    {
     "name": "stdout",
     "output_type": "stream",
     "text": [
      "First int4: 1, 2, 3, 4\n",
      "Second int4: 5, 6, 7, 8\n",
      "First double2: 1.110000, 2.220000\n",
      "Second double2: 3.330000, 4.440000\n"
     ]
    }
   ],
   "source": [
    "from __future__ import division\n",
    "import numpy as np\n",
    "from pycuda.compiler import SourceModule\n",
    "import pycuda.autoinit\n",
    "from pycuda import gpuarray\n",
    "\n",
    "VecCode='''\n",
    "__global__ void vec_ker(int *ints, double *doubles) {     \n",
    " int4 f1, f2;\n",
    " f1 = *reinterpret_cast<int4*>(ints);\n",
    " f2 = *reinterpret_cast<int4*>(&ints[4]);\n",
    " printf(\"First int4: %d, %d, %d, %d\\\\n\", f1.x, f1.y, f1.z, f1.w);\n",
    " printf(\"Second int4: %d, %d, %d, %d\\\\n\", f2.x, f2.y, f2.z, f2.w);\n",
    " \n",
    " double2 d1, d2;\n",
    " \n",
    " d1 = *reinterpret_cast<double2*>(doubles);\n",
    " d2 = *reinterpret_cast<double2*>(&doubles[2]);\n",
    " \n",
    " printf(\"First double2: %f, %f\\\\n\", d1.x, d1.y);\n",
    " printf(\"Second double2: %f, %f\\\\n\", d2.x, d2.y);\n",
    " \n",
    "}'''\n",
    "\n",
    "vec_mod = SourceModule(VecCode)\n",
    "vec_ker = vec_mod.get_function('vec_ker')\n",
    "\n",
    "ints = gpuarray.to_gpu(np.int32([1,2,3,4,5,6,7,8]))\n",
    "doubles = gpuarray.to_gpu(np.double([1.11,2.22,3.33,4.44]))\n",
    "\n",
    "\n",
    "print('Vectorized Memory Test:')\n",
    "\n",
    "vec_ker(ints, doubles, grid=(1,1,1), block=(1,1,1))"
   ]
  },
  {
   "cell_type": "code",
   "execution_count": null,
   "metadata": {},
   "outputs": [],
   "source": []
  }
 ],
 "metadata": {
  "kernelspec": {
   "display_name": "pycuda",
   "language": "python",
   "name": "python3"
  },
  "language_info": {
   "codemirror_mode": {
    "name": "ipython",
    "version": 3
   },
   "file_extension": ".py",
   "mimetype": "text/x-python",
   "name": "python",
   "nbconvert_exporter": "python",
   "pygments_lexer": "ipython3",
   "version": "3.8.16"
  },
  "orig_nbformat": 4,
  "vscode": {
   "interpreter": {
    "hash": "33982229682c888955ca524121202fe70bc1f8616e2a0962e61b4bee7840fbc6"
   }
  }
 },
 "nbformat": 4,
 "nbformat_minor": 2
}
