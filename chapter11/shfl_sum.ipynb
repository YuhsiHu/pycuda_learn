{
 "cells": [
  {
   "attachments": {},
   "cell_type": "markdown",
   "metadata": {},
   "source": [
    "# 线程束洗牌\n",
    "使用 **__shfl_down** 实现对线程束中所有线程的局部变量求和。\n",
    "书中的函数 **__shfl_down** 已在CUDA 9之后弃用，变更为 **__shfl_down_sync** 。文档参考[此处](https://docs.nvidia.com/cuda/cuda-c-programming-guide/index.html#warp-shuffle-functions)。"
   ]
  },
  {
   "cell_type": "code",
   "execution_count": 2,
   "metadata": {},
   "outputs": [
    {
     "name": "stdout",
     "output_type": "stream",
     "text": [
      "Input array: [ 0  1  2  3  4  5  6  7  8  9 10 11 12 13 14 15 16 17 18 19 20 21 22 23\n",
      " 24 25 26 27 28 29 30 31]\n",
      "Summed value: 31\n",
      "Does this match with Pythons sum? : False\n"
     ]
    }
   ],
   "source": [
    "from __future__ import division\n",
    "import numpy as np\n",
    "from pycuda.compiler import SourceModule\n",
    "import pycuda.autoinit\n",
    "from pycuda import gpuarray\n",
    "\n",
    "\n",
    "ShflSumCode='''\n",
    "__global__ void shfl_sum_ker(int *input, int *out) {\n",
    " int temp = input[threadIdx.x];\n",
    " for (int i=1; i < 32; i *= 2)\n",
    "     temp += __shfl_down_sync (temp, i, 32);\n",
    " if (threadIdx.x == 0)\n",
    "     *out = temp;\n",
    "}'''\n",
    "\n",
    "shfl_mod = SourceModule(ShflSumCode)\n",
    "shfl_sum_ker = shfl_mod.get_function('shfl_sum_ker')\n",
    "\n",
    "array_in = gpuarray.to_gpu(np.int32(range(32)))\n",
    "out = gpuarray.empty((1,), dtype=np.int32)\n",
    "\n",
    "shfl_sum_ker(array_in, out, grid=(1,1,1), block=(32,1,1))\n",
    "\n",
    "print('Input array: %s' % array_in.get())\n",
    "print('Summed value: %s' % out.get()[0])\n",
    "print('Does this match with Python''s sum? : %s' % (out.get()[0] == sum(array_in.get()) ))"
   ]
  },
  {
   "cell_type": "code",
   "execution_count": null,
   "metadata": {},
   "outputs": [],
   "source": []
  }
 ],
 "metadata": {
  "kernelspec": {
   "display_name": "pycuda",
   "language": "python",
   "name": "python3"
  },
  "language_info": {
   "codemirror_mode": {
    "name": "ipython",
    "version": 3
   },
   "file_extension": ".py",
   "mimetype": "text/x-python",
   "name": "python",
   "nbconvert_exporter": "python",
   "pygments_lexer": "ipython3",
   "version": "3.8.16"
  },
  "orig_nbformat": 4,
  "vscode": {
   "interpreter": {
    "hash": "33982229682c888955ca524121202fe70bc1f8616e2a0962e61b4bee7840fbc6"
   }
  }
 },
 "nbformat": 4,
 "nbformat_minor": 2
}
