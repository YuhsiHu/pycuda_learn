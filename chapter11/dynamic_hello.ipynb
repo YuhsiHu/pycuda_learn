{
 "cells": [
  {
   "attachments": {},
   "cell_type": "markdown",
   "metadata": {},
   "source": [
    "# CUDA的动态并行性\n",
    "创建一个基于N个线程的内核函数，令每个线程向终端输出一条短消息，然后递归地启动另一个基于N-1个线程的内核函数"
   ]
  },
  {
   "cell_type": "code",
   "execution_count": 1,
   "metadata": {},
   "outputs": [
    {
     "name": "stdout",
     "output_type": "stream",
     "text": [
      "Hello from thread 0, recursion depth 0!\n",
      "Hello from thread 1, recursion depth 0!\n",
      "Hello from thread 2, recursion depth 0!\n",
      "Hello from thread 3, recursion depth 0!\n",
      "Launching a new kernel from depth 0 .\n",
      "-----------------------------------------\n",
      "Hello from thread 0, recursion depth 1!\n",
      "Hello from thread 1, recursion depth 1!\n",
      "Hello from thread 2, recursion depth 1!\n",
      "Launching a new kernel from depth 1 .\n",
      "-----------------------------------------\n",
      "Hello from thread 0, recursion depth 2!\n",
      "Hello from thread 1, recursion depth 2!\n",
      "Launching a new kernel from depth 2 .\n",
      "-----------------------------------------\n",
      "Hello from thread 0, recursion depth 3!\n"
     ]
    }
   ],
   "source": [
    "from __future__ import division\n",
    "import numpy as np\n",
    "from pycuda.compiler import DynamicSourceModule\n",
    "import pycuda.autoinit\n",
    "\n",
    "DynamicParallelismCode='''\n",
    "__global__ void dynamic_hello_ker(int depth)\n",
    "{\n",
    " printf(\"Hello from thread %d, recursion depth %d!\\\\n\", threadIdx.x, depth);\n",
    " if (threadIdx.x == 0 && blockIdx.x == 0 && blockDim.x > 1)\n",
    "  {\n",
    "   printf(\"Launching a new kernel from depth %d .\\\\n\", depth);\n",
    "   printf(\"-----------------------------------------\\\\n\");\n",
    "   dynamic_hello_ker<<< 1, blockDim.x - 1 >>>(depth + 1);\n",
    "  }\n",
    "}'''\n",
    "\n",
    "dp_mod = DynamicSourceModule(DynamicParallelismCode)\n",
    "\n",
    "hello_ker = dp_mod.get_function('dynamic_hello_ker')\n",
    "\n",
    "hello_ker(np.int32(0), grid=(1,1,1), block=(4,1,1))\n"
   ]
  },
  {
   "cell_type": "code",
   "execution_count": null,
   "metadata": {},
   "outputs": [],
   "source": []
  }
 ],
 "metadata": {
  "kernelspec": {
   "display_name": "pycuda",
   "language": "python",
   "name": "python3"
  },
  "language_info": {
   "codemirror_mode": {
    "name": "ipython",
    "version": 3
   },
   "file_extension": ".py",
   "mimetype": "text/x-python",
   "name": "python",
   "nbconvert_exporter": "python",
   "pygments_lexer": "ipython3",
   "version": "3.8.16"
  },
  "orig_nbformat": 4,
  "vscode": {
   "interpreter": {
    "hash": "33982229682c888955ca524121202fe70bc1f8616e2a0962e61b4bee7840fbc6"
   }
  }
 },
 "nbformat": 4,
 "nbformat_minor": 2
}
