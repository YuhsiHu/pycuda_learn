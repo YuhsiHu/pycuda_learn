{
 "cells": [
  {
   "cell_type": "code",
   "execution_count": 1,
   "metadata": {},
   "outputs": [
    {
     "name": "stdout",
     "output_type": "stream",
     "text": [
      "Hello world from thread 0, in block 0!\n",
      "Hello world from thread 1, in block 0!\n",
      "Hello world from thread 2, in block 0!\n",
      "Hello world from thread 3, in block 0!\n",
      "Hello world from thread 4, in block 0!\n",
      "Hello world from thread 0, in block 1!\n",
      "Hello world from thread 1, in block 1!\n",
      "Hello world from thread 2, in block 1!\n",
      "Hello world from thread 3, in block 1!\n",
      "Hello world from thread 4, in block 1!\n",
      "-------------------------------------\n",
      "This kernel was launched over a grid consisting of 2 blocks,\n",
      "where each block has 5 threads.\n"
     ]
    }
   ],
   "source": [
    "import pycuda.autoinit\n",
    "import pycuda.driver as drv\n",
    "from pycuda import gpuarray\n",
    "from pycuda.compiler import SourceModule\n",
    "\n",
    "ker = SourceModule('''\n",
    "__global__ void hello_world_ker()\n",
    "{\n",
    "\tprintf(\"Hello world from thread %d, in block %d!\\\\n\", threadIdx.x, blockIdx.x);\n",
    "\t\n",
    "\t__syncthreads();\n",
    "\t\n",
    "\tif(threadIdx.x == 0 && blockIdx.x == 0)\n",
    "\t{\n",
    "\t\tprintf(\"-------------------------------------\\\\n\");\n",
    "\t\tprintf(\"This kernel was launched over a grid consisting of %d blocks,\\\\n\", gridDim.x);\n",
    "\t\tprintf(\"where each block has %d threads.\\\\n\", blockDim.x);\n",
    "\t}\n",
    "}\n",
    "''')\n",
    "\n",
    "hello_ker = ker.get_function(\"hello_world_ker\")\n",
    "hello_ker(  block=(5,1,1), grid=(2,1,1) )"
   ]
  },
  {
   "cell_type": "code",
   "execution_count": null,
   "metadata": {},
   "outputs": [],
   "source": []
  }
 ],
 "metadata": {
  "kernelspec": {
   "display_name": "pycuda",
   "language": "python",
   "name": "python3"
  },
  "language_info": {
   "codemirror_mode": {
    "name": "ipython",
    "version": 3
   },
   "file_extension": ".py",
   "mimetype": "text/x-python",
   "name": "python",
   "nbconvert_exporter": "python",
   "pygments_lexer": "ipython3",
   "version": "3.8.16"
  },
  "orig_nbformat": 4,
  "vscode": {
   "interpreter": {
    "hash": "33982229682c888955ca524121202fe70bc1f8616e2a0962e61b4bee7840fbc6"
   }
  }
 },
 "nbformat": 4,
 "nbformat_minor": 2
}
