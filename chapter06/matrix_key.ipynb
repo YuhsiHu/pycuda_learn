{
 "cells": [
  {
   "attachments": {},
   "cell_type": "markdown",
   "metadata": {},
   "source": [
    "# 矩阵乘法的python实现\n",
    "matrix_key.cu是纯CUDA C实现"
   ]
  },
  {
   "cell_type": "code",
   "execution_count": 2,
   "metadata": {},
   "outputs": [],
   "source": [
    "import pycuda.autoinit\n",
    "import pycuda.driver as drv\n",
    "from pycuda import gpuarray\n",
    "from pycuda.compiler import SourceModule\n",
    "import numpy as np\n",
    "\n",
    "\n",
    "ker = SourceModule('''\n",
    "// row-column dot-product for matrix multiplication\n",
    "__device__ float rowcol_dot(float *matrix_a, float *matrix_b, int row, int col, int N)\n",
    "{\n",
    "\tfloat val = 0;\n",
    "\t\n",
    "\tfor (int k=0; k < N; k++)\n",
    "\t{\n",
    "        val += matrix_a[ row*N + k ] * matrix_b[ col + k*N];\n",
    "\t}\n",
    "\t\n",
    "\treturn(val);\n",
    "}\n",
    "// matrix multiplication kernel that is parallelized over row/column tuples.\n",
    "__global__ void matrix_mult_ker(float * matrix_a, float * matrix_b, float * output_matrix, int N)\n",
    "{\n",
    "    int row = blockIdx.x*blockDim.x + threadIdx.x;\n",
    "    int col = blockIdx.y*blockDim.y + threadIdx.y;\n",
    "\toutput_matrix[col + row*N] = rowcol_dot(matrix_a, matrix_b, row, col, N);\n",
    "}\n",
    "''')\n",
    "\n",
    "matrix_ker = ker.get_function('matrix_mult_ker')\n",
    "\n",
    "test_a = np.float32([range(1,5)] * 4)\n",
    "test_b = np.float32([range(14,10, -1)]*4 )\n",
    "\n",
    "output_mat = np.matmul(test_a, test_b)\n",
    "\n",
    "test_a_gpu = gpuarray.to_gpu(test_a)\n",
    "test_b_gpu = gpuarray.to_gpu(test_b)\n",
    "output_mat_gpu = gpuarray.empty_like(test_a_gpu)\n",
    "\n",
    "matrix_ker(test_a_gpu, test_b_gpu, output_mat_gpu, np.int32(4), block=(2,2,1), grid=(2,2,1))\n",
    "\n",
    "assert(np.allclose(output_mat_gpu.get(), output_mat) )"
   ]
  },
  {
   "cell_type": "code",
   "execution_count": null,
   "metadata": {},
   "outputs": [],
   "source": []
  }
 ],
 "metadata": {
  "kernelspec": {
   "display_name": "pycuda",
   "language": "python",
   "name": "python3"
  },
  "language_info": {
   "codemirror_mode": {
    "name": "ipython",
    "version": 3
   },
   "file_extension": ".py",
   "mimetype": "text/x-python",
   "name": "python",
   "nbconvert_exporter": "python",
   "pygments_lexer": "ipython3",
   "version": "3.8.16"
  },
  "orig_nbformat": 4,
  "vscode": {
   "interpreter": {
    "hash": "33982229682c888955ca524121202fe70bc1f8616e2a0962e61b4bee7840fbc6"
   }
  }
 },
 "nbformat": 4,
 "nbformat_minor": 2
}
