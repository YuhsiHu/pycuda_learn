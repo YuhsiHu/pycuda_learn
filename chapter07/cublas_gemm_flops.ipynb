{
 "cells": [
  {
   "attachments": {},
   "cell_type": "markdown",
   "metadata": {},
   "source": [
    "# 利用cublas库处理基本线性代数运算"
   ]
  },
  {
   "cell_type": "code",
   "execution_count": 2,
   "metadata": {},
   "outputs": [
    {
     "name": "stdout",
     "output_type": "stream",
     "text": [
      "Single-precision performance: 10971.616897665599 GFLOPS\n",
      "Double-precision performance: 499.2274175922918 GFLOPS\n"
     ]
    }
   ],
   "source": [
    "import pycuda.autoinit\n",
    "from pycuda import gpuarray\n",
    "import numpy as np\n",
    "from skcuda import cublas\n",
    "from time import time\n",
    "\n",
    "m = 5000\n",
    "n = 10000\n",
    "k = 10000\n",
    "\n",
    "\n",
    "def compute_gflops(precision='S'):\n",
    "\n",
    "\n",
    "\tif precision=='S':\n",
    "\t\tfloat_type = 'float32'\n",
    "\telif precision=='D':\n",
    "\t\tfloat_type = 'float64'\n",
    "\telse:\n",
    "\t\treturn -1\n",
    "\t\t\n",
    "\t\t\n",
    "\tA = np.random.randn(m, k).astype(float_type)\n",
    "\tB = np.random.randn(k, n).astype(float_type)\n",
    "\tC = np.random.randn(m, n).astype(float_type)\n",
    "\n",
    "\tA_cm = A.T.copy()\n",
    "\tB_cm = B.T.copy()\n",
    "\tC_cm = C.T.copy()\n",
    "\n",
    "\tA_gpu = gpuarray.to_gpu(A_cm)\n",
    "\tB_gpu = gpuarray.to_gpu(B_cm)\n",
    "\tC_gpu = gpuarray.to_gpu(C_cm)\n",
    "\n",
    "\talpha = np.random.randn()\n",
    "\tbeta = np.random.randn()\n",
    "\n",
    "\ttransa = cublas._CUBLAS_OP['N']\n",
    "\ttransb = cublas._CUBLAS_OP['N']\n",
    "\n",
    "\tlda = m\n",
    "\tldb = k\n",
    "\tldc = m\n",
    "\n",
    "\tt = time()\n",
    "\thandle = cublas.cublasCreate()\n",
    "\t\n",
    "\texec('cublas.cublas%sgemm(handle, transa, transb, m, n, k, alpha, A_gpu.gpudata, lda, \\\n",
    "\t\t\t\t\t\tB_gpu.gpudata, ldb, beta, C_gpu.gpudata, ldc)' % precision)\n",
    "\t\n",
    "\tcublas.cublasDestroy(handle)\n",
    "\tt = time() - t\n",
    "\n",
    "\tgflops = 2*m*n*(k+1)*(10**-9) / t \n",
    "\t\n",
    "\treturn gflops\n",
    "\n",
    "if __name__ == '__main__':\n",
    "\tprint('Single-precision performance: %s GFLOPS' % compute_gflops('S'))\n",
    "\tprint('Double-precision performance: %s GFLOPS' % compute_gflops('D'))"
   ]
  },
  {
   "cell_type": "code",
   "execution_count": null,
   "metadata": {},
   "outputs": [],
   "source": []
  }
 ],
 "metadata": {
  "kernelspec": {
   "display_name": "pycuda",
   "language": "python",
   "name": "python3"
  },
  "language_info": {
   "codemirror_mode": {
    "name": "ipython",
    "version": 3
   },
   "file_extension": ".py",
   "mimetype": "text/x-python",
   "name": "python",
   "nbconvert_exporter": "python",
   "pygments_lexer": "ipython3",
   "version": "3.8.16"
  },
  "orig_nbformat": 4,
  "vscode": {
   "interpreter": {
    "hash": "33982229682c888955ca524121202fe70bc1f8616e2a0962e61b4bee7840fbc6"
   }
  }
 },
 "nbformat": 4,
 "nbformat_minor": 2
}
