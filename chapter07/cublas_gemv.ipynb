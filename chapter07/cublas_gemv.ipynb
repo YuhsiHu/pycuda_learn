{
 "cells": [
  {
   "attachments": {},
   "cell_type": "markdown",
   "metadata": {},
   "source": [
    "# 利用cuBLAS库处理第2级GEMV运算\n",
    "矩阵向量乘法\n",
    "\n",
    "我们生成1个10*100的随机矩阵A和一个大小为100的随机向量x，然后把y初始化成由10个0元素组成的向量，最后将alpha设置为1，把beta设置为0，这样设置的目的是直接进行矩阵相乘而无需缩放。"
   ]
  },
  {
   "cell_type": "code",
   "execution_count": 1,
   "metadata": {},
   "outputs": [
    {
     "name": "stderr",
     "output_type": "stream",
     "text": [
      "/home/makerlab/anaconda3/envs/pycuda/lib/python3.8/site-packages/skcuda/cublas.py:284: UserWarning: creating CUBLAS context to get version number\n",
      "  warnings.warn('creating CUBLAS context to get version number')\n"
     ]
    },
    {
     "name": "stdout",
     "output_type": "stream",
     "text": [
      "cuBLAS returned the correct value: True\n"
     ]
    }
   ],
   "source": [
    "import pycuda.autoinit\n",
    "from pycuda import gpuarray\n",
    "import numpy as np\n",
    "from skcuda import cublas\n",
    "from time import time\n",
    "\n",
    "m = 10\n",
    "n = 100\n",
    "alpha = 1\n",
    "beta = 0\n",
    "A = np.random.rand(m, n).astype('float32')\n",
    "x = np.random.rand(n).astype('float32')\n",
    "y= np.zeros(m).astype('float32')\n",
    "\n",
    "A_columnwise = A.T.copy()\n",
    "A_gpu = gpuarray.to_gpu(A_columnwise)\n",
    "x_gpu = gpuarray.to_gpu(x)\n",
    "y_gpu = gpuarray.to_gpu(y)\n",
    "\n",
    "trans = cublas._CUBLAS_OP['N']\n",
    "\n",
    "lda = m\n",
    "incx = 1\n",
    "incy = 1\n",
    "handle = cublas.cublasCreate()\n",
    "\n",
    "# y <- alpha A x + beta y\n",
    "# handle是句柄，trans是指定的矩阵结构，默认矩阵按列主序格式进行存储的，m和n是A的行数和列数，alpha表示alpha的值，A是矩阵，lda是主维度 x是与矩阵相乘的向量，incx是步长，beta是beta的值，\n",
    "cublas.cublasSgemv(handle, trans, m, n, alpha, A_gpu.gpudata, lda, x_gpu.gpudata, incx, beta, y_gpu.gpudata, incy)\n",
    "\n",
    "cublas.cublasDestroy(handle)\n",
    "print('cuBLAS returned the correct value: %s' % np.allclose(np.dot(A, x), y_gpu.get()))"
   ]
  },
  {
   "cell_type": "code",
   "execution_count": null,
   "metadata": {},
   "outputs": [],
   "source": []
  }
 ],
 "metadata": {
  "kernelspec": {
   "display_name": "pycuda",
   "language": "python",
   "name": "python3"
  },
  "language_info": {
   "codemirror_mode": {
    "name": "ipython",
    "version": 3
   },
   "file_extension": ".py",
   "mimetype": "text/x-python",
   "name": "python",
   "nbconvert_exporter": "python",
   "pygments_lexer": "ipython3",
   "version": "3.8.16"
  },
  "orig_nbformat": 4,
  "vscode": {
   "interpreter": {
    "hash": "33982229682c888955ca524121202fe70bc1f8616e2a0962e61b4bee7840fbc6"
   }
  }
 },
 "nbformat": 4,
 "nbformat_minor": 2
}
