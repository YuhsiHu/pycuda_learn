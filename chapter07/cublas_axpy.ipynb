{
 "cells": [
  {
   "attachments": {},
   "cell_type": "markdown",
   "metadata": {},
   "source": [
    "# 利用cuBLAS库处理第1级AXPY运算\n",
    "ax+y的运算"
   ]
  },
  {
   "cell_type": "code",
   "execution_count": 2,
   "metadata": {},
   "outputs": [
    {
     "name": "stdout",
     "output_type": "stream",
     "text": [
      "This is close to the Numpy approximation: True\n"
     ]
    }
   ],
   "source": [
    "import pycuda.autoinit\n",
    "from pycuda import gpuarray\n",
    "import numpy as np\n",
    "from skcuda import cublas\n",
    "from time import time\n",
    "\n",
    "a = np.float32(10)\n",
    "x = np.float32([1, 2, 3])\n",
    "y = np.float32([-.345, 8.15, -15.867])\n",
    "x_gpu = gpuarray.to_gpu(x)\n",
    "y_gpu = gpuarray.to_gpu(y)\n",
    "# 创建上下文\n",
    "cublas_context_h = cublas.cublasCreate()\n",
    "\n",
    "cublas.cublasSaxpy(cublas_context_h, x_gpu.size, a, x_gpu.gpudata, 1, y_gpu.gpudata, 1)\n",
    "\n",
    "cublas.cublasDestroy(cublas_context_h)\n",
    "\n",
    "print('This is close to the Numpy approximation: %s' % np.allclose(a*x + y, y_gpu.get()))"
   ]
  },
  {
   "attachments": {},
   "cell_type": "markdown",
   "metadata": {},
   "source": [
    "计算两个单精度浮点整数的点积，也就是逐元素相乘之后求和"
   ]
  },
  {
   "cell_type": "code",
   "execution_count": 8,
   "metadata": {},
   "outputs": [
    {
     "name": "stdout",
     "output_type": "stream",
     "text": [
      "14.0\n"
     ]
    }
   ],
   "source": [
    "u = np.float32([1, 2, 3])\n",
    "w = np.float32([1, 2, 3])\n",
    "u_gpu = gpuarray.to_gpu(u)\n",
    "w_gpu = gpuarray.to_gpu(w)\n",
    "\n",
    "cublas_context_h = cublas.cublasCreate()\n",
    "dot_output = cublas.cublasSdot(cublas_context_h, u_gpu.size, u_gpu.gpudata, 1, w_gpu.gpudata, 1)\n",
    "cublas.cublasDestroy(cublas_context_h)\n",
    "\n",
    "print(dot_output)"
   ]
  },
  {
   "attachments": {},
   "cell_type": "markdown",
   "metadata": {},
   "source": [
    "我们也可以像下面这样计算向量的L2范数"
   ]
  },
  {
   "cell_type": "code",
   "execution_count": 10,
   "metadata": {},
   "outputs": [
    {
     "name": "stdout",
     "output_type": "stream",
     "text": [
      "3.7416575\n"
     ]
    }
   ],
   "source": [
    "u = np.float32([1, 2, 3])\n",
    "w = np.float32([1, 2, 3])\n",
    "u_gpu = gpuarray.to_gpu(u)\n",
    "w_gpu = gpuarray.to_gpu(w)\n",
    "\n",
    "cublas_context_h = cublas.cublasCreate()\n",
    "l2_output = cublas.cublasSnrm2(cublas_context_h, u_gpu.size, u_gpu.gpudata, 1)\n",
    "cublas.cublasDestroy(cublas_context_h)\n",
    "\n",
    "print(l2_output)"
   ]
  },
  {
   "cell_type": "code",
   "execution_count": null,
   "metadata": {},
   "outputs": [],
   "source": []
  }
 ],
 "metadata": {
  "kernelspec": {
   "display_name": "pycuda",
   "language": "python",
   "name": "python3"
  },
  "language_info": {
   "codemirror_mode": {
    "name": "ipython",
    "version": 3
   },
   "file_extension": ".py",
   "mimetype": "text/x-python",
   "name": "python",
   "nbconvert_exporter": "python",
   "pygments_lexer": "ipython3",
   "version": "3.8.16"
  },
  "orig_nbformat": 4,
  "vscode": {
   "interpreter": {
    "hash": "33982229682c888955ca524121202fe70bc1f8616e2a0962e61b4bee7840fbc6"
   }
  }
 },
 "nbformat": 4,
 "nbformat_minor": 2
}
