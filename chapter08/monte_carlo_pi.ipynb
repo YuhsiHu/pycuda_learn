{
 "cells": [
  {
   "attachments": {},
   "cell_type": "markdown",
   "metadata": {},
   "source": [
    "# 用蒙特卡洛方法估算圆周率"
   ]
  },
  {
   "cell_type": "code",
   "execution_count": 2,
   "metadata": {},
   "outputs": [
    {
     "name": "stdout",
     "output_type": "stream",
     "text": [
      "Our Monte Carlo estimate of Pi is : 3.141595677851001\n",
      "NumPy's Pi constant is: 3.141592653589793 \n",
      "Our estimate passes NumPy's 'allclose' : True\n"
     ]
    },
    {
     "name": "stderr",
     "output_type": "stream",
     "text": [
      "/tmp/ipykernel_11244/779811876.py:55: DeprecationWarning: `np.float` is a deprecated alias for the builtin `float`. To silence this warning, use `float` by itself. Doing this will not modify any behavior and is safe. If you specifically wanted the numpy scalar type, use `np.float64` here.\n",
      "Deprecated in NumPy 1.20; for more details and guidance: https://numpy.org/devdocs/release/1.20.0-notes.html#deprecations\n",
      "  est_pi = np.float(est_pi_symbolic.evalf())\n"
     ]
    }
   ],
   "source": [
    "import pycuda.autoinit\n",
    "import pycuda.driver as drv\n",
    "from pycuda import gpuarray\n",
    "from pycuda.compiler import SourceModule\n",
    "import numpy as np\n",
    "from sympy import Rational\n",
    "\n",
    "ker = SourceModule(no_extern_c=True ,source='''\n",
    "#include <curand_kernel.h>\n",
    "#define _PYTHAG(a,b)  (a*a + b*b)\n",
    "#define ULL  unsigned long long\n",
    "extern \"C\" {\n",
    "__global__ void estimate_pi(ULL iters, ULL * hits)\n",
    "{\n",
    "\tcurandState cr_state;\n",
    "     \n",
    "\tint tid = blockIdx.x * blockDim.x + threadIdx.x;\n",
    "\tcurand_init( (ULL)  clock() + (ULL) tid, (ULL) 0, \\\n",
    "\t(ULL) 0, &cr_state);\n",
    "\tfloat x, y;\n",
    " \n",
    "\tfor(ULL i=0; i < iters; i++)\n",
    "\t{ \n",
    "\t\t x = curand_uniform(&cr_state);\n",
    "\t\t y = curand_uniform(&cr_state);\n",
    "\t\t \n",
    "\t\t \n",
    "\t\t if(_PYTHAG(x,y) <= 1.0f)\n",
    "\t\t\t hits[tid]++;\n",
    "\t}\n",
    " \n",
    " return;\n",
    "}\n",
    "}// (End of 'extern \"C\"' here)\n",
    "''')\n",
    "\n",
    "pi_ker = ker.get_function(\"estimate_pi\")\n",
    "\n",
    "threads_per_block = 32\n",
    "blocks_per_grid = 512 \n",
    "\n",
    "total_threads = threads_per_block * blocks_per_grid\n",
    "\n",
    "hits_d = gpuarray.zeros((total_threads,),dtype=np.uint64)\n",
    "\n",
    "iters = 2**24   \n",
    "\n",
    "pi_ker(np.uint64(iters), hits_d, grid=(blocks_per_grid,1,1), block=(threads_per_block,1,1))\n",
    "\n",
    "total_hits = np.sum(hits_d.get())\n",
    "total = np.uint64(total_threads) * np.uint64(iters)\n",
    "\n",
    "est_pi_symbolic = Rational(4)*Rational(int(total_hits), int(total))\n",
    "\n",
    "est_pi = np.float(est_pi_symbolic.evalf())\n",
    "\n",
    "print(\"Our Monte Carlo estimate of Pi is : %s\" % est_pi)\n",
    "print(\"NumPy's Pi constant is: %s \" % np.pi)\n",
    "print(\"Our estimate passes NumPy's 'allclose' : %s\" % np.allclose(est_pi, np.pi))"
   ]
  },
  {
   "cell_type": "code",
   "execution_count": null,
   "metadata": {},
   "outputs": [],
   "source": []
  }
 ],
 "metadata": {
  "kernelspec": {
   "display_name": "pycuda",
   "language": "python",
   "name": "python3"
  },
  "language_info": {
   "codemirror_mode": {
    "name": "ipython",
    "version": 3
   },
   "file_extension": ".py",
   "mimetype": "text/x-python",
   "name": "python",
   "nbconvert_exporter": "python",
   "pygments_lexer": "ipython3",
   "version": "3.8.16"
  },
  "orig_nbformat": 4,
  "vscode": {
   "interpreter": {
    "hash": "33982229682c888955ca524121202fe70bc1f8616e2a0962e61b4bee7840fbc6"
   }
  }
 },
 "nbformat": 4,
 "nbformat_minor": 2
}
