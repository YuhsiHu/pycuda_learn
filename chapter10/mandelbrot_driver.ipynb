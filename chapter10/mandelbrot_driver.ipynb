{
 "cells": [
  {
   "cell_type": "code",
   "execution_count": 1,
   "metadata": {},
   "outputs": [
    {
     "ename": "TypeError",
     "evalue": "bytes or integer address expected instead of str instance",
     "output_type": "error",
     "traceback": [
      "\u001b[0;31m---------------------------------------------------------------------------\u001b[0m",
      "\u001b[0;31mTypeError\u001b[0m                                 Traceback (most recent call last)",
      "Cell \u001b[0;32mIn[1], line 71\u001b[0m\n\u001b[1;32m     68\u001b[0m \u001b[39mif\u001b[39;00m \u001b[39m__name__\u001b[39m \u001b[39m==\u001b[39m \u001b[39m'\u001b[39m\u001b[39m__main__\u001b[39m\u001b[39m'\u001b[39m:\n\u001b[1;32m     70\u001b[0m     t1 \u001b[39m=\u001b[39m time()\n\u001b[0;32m---> 71\u001b[0m     mandel \u001b[39m=\u001b[39m mandelbrot(\u001b[39m512\u001b[39;49m,\u001b[39m-\u001b[39;49m\u001b[39m2\u001b[39;49m,\u001b[39m2\u001b[39;49m,\u001b[39m256\u001b[39;49m, \u001b[39m2\u001b[39;49m)\n\u001b[1;32m     72\u001b[0m     t2 \u001b[39m=\u001b[39m time()\n\u001b[1;32m     74\u001b[0m     mandel_time \u001b[39m=\u001b[39m t2 \u001b[39m-\u001b[39m t1\n",
      "Cell \u001b[0;32mIn[1], line 25\u001b[0m, in \u001b[0;36mmandelbrot\u001b[0;34m(breadth, low, high, max_iters, upper_bound)\u001b[0m\n\u001b[1;32m     22\u001b[0m cuCtxCreate(byref(cuContext), \u001b[39m0\u001b[39m, cuDevice)\n\u001b[1;32m     24\u001b[0m cuModule \u001b[39m=\u001b[39m c_void_p()\n\u001b[0;32m---> 25\u001b[0m cuModuleLoad(byref(cuModule), c_char_p(\u001b[39m'\u001b[39;49m\u001b[39m./mandelbrot.ptx\u001b[39;49m\u001b[39m'\u001b[39;49m))\n\u001b[1;32m     27\u001b[0m lattice \u001b[39m=\u001b[39m np\u001b[39m.\u001b[39mlinspace(low, high, breadth, dtype\u001b[39m=\u001b[39mnp\u001b[39m.\u001b[39mfloat32)\n\u001b[1;32m     28\u001b[0m lattice_c \u001b[39m=\u001b[39m lattice\u001b[39m.\u001b[39mctypes\u001b[39m.\u001b[39mdata_as(POINTER(c_float))\n",
      "\u001b[0;31mTypeError\u001b[0m: bytes or integer address expected instead of str instance"
     ]
    }
   ],
   "source": [
    "from __future__ import division\n",
    "from time import time\n",
    "import matplotlib\n",
    "from matplotlib import pyplot as plt\n",
    "import numpy as np\n",
    "from cuda_driver import *\n",
    "\n",
    "def mandelbrot(breadth, low, high, max_iters, upper_bound):\n",
    "    cuInit(0)\n",
    "\n",
    "    cnt = c_int(0)\n",
    "    cuDeviceGetCount(byref(cnt))\n",
    "    \n",
    "    if cnt.value == 0:\n",
    "        raise Exception('No GPU device found!')\n",
    "    \n",
    "\n",
    "    cuDevice = c_int(0)\n",
    "    cuDeviceGet(byref(cuDevice), 0)\n",
    "    \n",
    "    cuContext = c_void_p()\n",
    "    cuCtxCreate(byref(cuContext), 0, cuDevice)\n",
    "\n",
    "    cuModule = c_void_p()\n",
    "    cuModuleLoad(byref(cuModule), c_char_p('./mandelbrot.ptx'))\n",
    "\n",
    "    lattice = np.linspace(low, high, breadth, dtype=np.float32)\n",
    "    lattice_c = lattice.ctypes.data_as(POINTER(c_float))\n",
    "    lattice_gpu = c_void_p(0)\n",
    "    \n",
    "    # Set up graph output for host.  Notice that this acts like a host-side \"malloc\", and we ca\n",
    "    graph = np.zeros(shape=(lattice.size, lattice.size), dtype=np.float32)\n",
    "    \n",
    "    cuMemAlloc(byref(lattice_gpu), c_size_t(lattice.size*sizeof(c_float)))\n",
    "\n",
    "    graph_gpu = c_void_p(0)\n",
    "    cuMemAlloc(byref(graph_gpu), c_size_t(lattice.size**2 * sizeof(c_float)))\n",
    "\n",
    "    cuMemcpyHtoD(lattice_gpu, lattice_c, c_size_t(lattice.size*sizeof(c_float)))\n",
    "\n",
    "    mandel_ker = c_void_p(0)\n",
    "    cuModuleGetFunction(byref(mandel_ker), cuModule, c_char_p('mandelbrot_ker'))\n",
    "\n",
    "    max_iters = c_int(max_iters)\n",
    "    upper_bound_squared = c_float(upper_bound**2)\n",
    "    lattice_size = c_int(lattice.size)\n",
    "\n",
    "    mandel_args0 = [lattice_gpu, graph_gpu, max_iters, upper_bound_squared, lattice_size ]\n",
    "    mandel_args = [c_void_p(addressof(x)) for x in mandel_args0]\n",
    "    mandel_params = (c_void_p * len(mandel_args))(*mandel_args)\n",
    "\n",
    "    gridsize = int(np.ceil(lattice.size**2 / 32))\n",
    "    cuLaunchKernel(mandel_ker, gridsize, 1, 1, 32, 1, 1, 10000, None, mandel_params, None)\n",
    "\n",
    "    # synchronize context after kernel launch\n",
    "    cuCtxSynchronize()\n",
    "\n",
    "    \n",
    "    cuMemcpyDtoH( cast(graph.ctypes.data, c_void_p), graph_gpu,  c_size_t(lattice.size**2*sizeof(c_float)))\n",
    "    \n",
    "    cuMemFree(lattice_gpu)\n",
    "    cuMemFree(graph_gpu)\n",
    "    cuCtxDestroy(cuContext)\n",
    "\n",
    "    return graph\n",
    "\n",
    "\n",
    "if __name__ == '__main__':\n",
    "\n",
    "    t1 = time()\n",
    "    mandel = mandelbrot(512, -2, 2, 256, 2)\n",
    "    t2 = time()\n",
    "\n",
    "    mandel_time = t2 - t1\n",
    "\n",
    "    print('It took %s seconds to calculate the Mandelbrot graph.' % mandel_time)\n",
    "    \n",
    "    fig = plt.figure(1)\n",
    "    plt.imshow(mandel, extent=(-2, 2, -2, 2))\n",
    "    plt.show()"
   ]
  },
  {
   "cell_type": "code",
   "execution_count": null,
   "metadata": {},
   "outputs": [],
   "source": []
  }
 ],
 "metadata": {
  "kernelspec": {
   "display_name": "pycuda",
   "language": "python",
   "name": "python3"
  },
  "language_info": {
   "codemirror_mode": {
    "name": "ipython",
    "version": 3
   },
   "file_extension": ".py",
   "mimetype": "text/x-python",
   "name": "python",
   "nbconvert_exporter": "python",
   "pygments_lexer": "ipython3",
   "version": "3.8.16"
  },
  "orig_nbformat": 4,
  "vscode": {
   "interpreter": {
    "hash": "33982229682c888955ca524121202fe70bc1f8616e2a0962e61b4bee7840fbc6"
   }
  }
 },
 "nbformat": 4,
 "nbformat_minor": 2
}
