{
 "cells": [
  {
   "attachments": {},
   "cell_type": "markdown",
   "metadata": {},
   "source": [
    "# 实现主机端并发的多上下文\n",
    "用一个简单的示例来回顾如何在python中创建单个可以向主机返回值的主机线程。"
   ]
  },
  {
   "cell_type": "code",
   "execution_count": 1,
   "metadata": {},
   "outputs": [
    {
     "name": "stdout",
     "output_type": "stream",
     "text": [
      "Hello from the thread you just spawned!\n",
      "The thread completed and returned this value: 123\n"
     ]
    }
   ],
   "source": [
    "import threading\n",
    "\n",
    "class PointlessExampleThread(threading.Thread):\n",
    "    def __init__(self):\n",
    "        threading.Thread.__init__(self)\n",
    "        self.return_value = None\n",
    "        \n",
    "    def run(self):\n",
    "        print('Hello from the thread you just spawned!')\n",
    "        self.return_value = 123\n",
    "        \n",
    "    def join(self):\n",
    "        threading.Thread.join(self)\n",
    "        return self.return_value\n",
    "    \n",
    "\n",
    "NewThread = PointlessExampleThread()\n",
    "NewThread.start()\n",
    "# 调用join来阻塞执行流并从主机线程那里获得相应的输出结果\n",
    "thread_output = NewThread.join()\n",
    "print('The thread completed and returned this value: %s' % thread_output)"
   ]
  },
  {
   "cell_type": "code",
   "execution_count": null,
   "metadata": {},
   "outputs": [],
   "source": []
  }
 ],
 "metadata": {
  "kernelspec": {
   "display_name": "pycuda",
   "language": "python",
   "name": "python3"
  },
  "language_info": {
   "codemirror_mode": {
    "name": "ipython",
    "version": 3
   },
   "file_extension": ".py",
   "mimetype": "text/x-python",
   "name": "python",
   "nbconvert_exporter": "python",
   "pygments_lexer": "ipython3",
   "version": "3.8.16"
  },
  "orig_nbformat": 4,
  "vscode": {
   "interpreter": {
    "hash": "33982229682c888955ca524121202fe70bc1f8616e2a0962e61b4bee7840fbc6"
   }
  }
 },
 "nbformat": 4,
 "nbformat_minor": 2
}
