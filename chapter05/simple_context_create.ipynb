{
 "cells": [
  {
   "attachments": {},
   "cell_type": "markdown",
   "metadata": {},
   "source": [
    "# 手动创建上下文\n",
    "pycuda.autoinit模块会在启动时创建一个上下文，并在程序结束的时候销毁。现在，让我们尝试手动执行该操作。我们将编写一个示例程序，使之具备这样的功能：先把一个数组复制到GPU，然后再复制回主机，并输出数组，最后退出。"
   ]
  },
  {
   "cell_type": "code",
   "execution_count": 1,
   "metadata": {},
   "outputs": [
    {
     "name": "stdout",
     "output_type": "stream",
     "text": [
      "[1. 2. 3.]\n"
     ]
    }
   ],
   "source": [
    "import numpy as np\n",
    "from pycuda import gpuarray\n",
    "import pycuda.driver as drv\n",
    "\n",
    "# 初始化CUDA\n",
    "drv.init()\n",
    "# 选择GPU\n",
    "dev = drv.Device(0)\n",
    "# 创建上下文\n",
    "ctx = dev.make_context()\n",
    "\n",
    "x = gpuarray.to_gpu(np.float32([1,2,3]))\n",
    "print(x.get())\n",
    "\n",
    "# 销毁上下文\n",
    "ctx.pop()"
   ]
  },
  {
   "cell_type": "code",
   "execution_count": null,
   "metadata": {},
   "outputs": [],
   "source": []
  }
 ],
 "metadata": {
  "kernelspec": {
   "display_name": "pycuda",
   "language": "python",
   "name": "python3"
  },
  "language_info": {
   "codemirror_mode": {
    "name": "ipython",
    "version": 3
   },
   "file_extension": ".py",
   "mimetype": "text/x-python",
   "name": "python",
   "nbconvert_exporter": "python",
   "pygments_lexer": "ipython3",
   "version": "3.8.16"
  },
  "orig_nbformat": 4,
  "vscode": {
   "interpreter": {
    "hash": "33982229682c888955ca524121202fe70bc1f8616e2a0962e61b4bee7840fbc6"
   }
  }
 },
 "nbformat": 4,
 "nbformat_minor": 2
}
