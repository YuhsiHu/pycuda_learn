{
 "cells": [
  {
   "attachments": {},
   "cell_type": "markdown",
   "metadata": {},
   "source": [
    "# 同步当前上下文\n",
    "沿用第3章中编写的代码，使其通过显式的上下文同步操作来生成图像，这里的目标并不是提升原来的程序的性能，而是重点介绍上下文和同步的概念。"
   ]
  },
  {
   "cell_type": "code",
   "execution_count": 1,
   "metadata": {},
   "outputs": [
    {
     "name": "stdout",
     "output_type": "stream",
     "text": [
      "It took 0.12629151344299316 seconds to calculate the Mandelbrot graph.\n",
      "It took 0.20402097702026367 seconds to dump the image.\n"
     ]
    }
   ],
   "source": [
    "from time import time\n",
    "import matplotlib\n",
    "#this will prevent the figure from popping up\n",
    "matplotlib.use('Agg')\n",
    "from matplotlib import pyplot as plt\n",
    "import numpy as np\n",
    "import pycuda.autoinit\n",
    "from pycuda import gpuarray\n",
    "from pycuda.elementwise import ElementwiseKernel\n",
    "\n",
    "mandel_ker = ElementwiseKernel(\n",
    "\"pycuda::complex<float> *lattice, float *mandelbrot_graph, int max_iters, float upper_bound\",\n",
    "\"\"\"\n",
    "mandelbrot_graph[i] = 1;\n",
    "pycuda::complex<float> c = lattice[i]; \n",
    "pycuda::complex<float> z(0,0);\n",
    "for (int j = 0; j < max_iters; j++)\n",
    "    {\n",
    "    \n",
    "     z = z*z + c;\n",
    "     \n",
    "     if(abs(z) > upper_bound)\n",
    "         {\n",
    "          mandelbrot_graph[i] = 0;\n",
    "          break;\n",
    "         }\n",
    "    }\n",
    "         \n",
    "\"\"\",\n",
    "\"mandel_ker\")\n",
    "\n",
    "def gpu_mandelbrot(width, height, real_low, real_high, imag_low, imag_high, max_iters, upper_bound):\n",
    "\n",
    "    # we set up our complex lattice as such\n",
    "    real_vals = np.matrix(np.linspace(real_low, real_high, width), dtype=np.complex64)\n",
    "    imag_vals = np.matrix(np.linspace( imag_high, imag_low, height), dtype=np.complex64) * 1j\n",
    "    mandelbrot_lattice = np.array(real_vals + imag_vals.transpose(), dtype=np.complex64)    \n",
    "    \n",
    "    # 把数据异步复制到GPU再进行同步处理，实际上，CUDA的内存分配本就是自动同步的，与没有显式同步是等价的\n",
    "    # copy complex lattice to the GPU\n",
    "    mandelbrot_lattice_gpu = gpuarray.to_gpu_async(mandelbrot_lattice)\n",
    "    # synchronize in current context\n",
    "    pycuda.autoinit.context.synchronize()\n",
    "\n",
    "    # allocate an empty array on the GPU\n",
    "    mandelbrot_graph_gpu = gpuarray.empty(shape=mandelbrot_lattice.shape, dtype=np.float32)\n",
    "\n",
    "    mandel_ker(mandelbrot_lattice_gpu, mandelbrot_graph_gpu, np.int32(max_iters), np.float32(upper_bound))\n",
    "\n",
    "    pycuda.autoinit.context.synchronize()\n",
    "    # 把get改成异步的，再在之后同步  \n",
    "    mandelbrot_graph = mandelbrot_graph_gpu.get_async()\n",
    "    pycuda.autoinit.context.synchronize()\n",
    "\n",
    "    return mandelbrot_graph\n",
    "\n",
    "\n",
    "if __name__ == '__main__':\n",
    "\n",
    "    t1 = time()\n",
    "    mandel = gpu_mandelbrot(512,512,-2,2,-2,2,256, 2)\n",
    "    t2 = time()\n",
    "\n",
    "    mandel_time = t2 - t1\n",
    "\n",
    "    t1 = time()\n",
    "    fig = plt.figure(1)\n",
    "    plt.imshow(mandel, extent=(-2, 2, -2, 2))\n",
    "    plt.savefig('mandelbrot.png', dpi=fig.dpi)\n",
    "    t2 = time()\n",
    "\n",
    "    dump_time = t2 - t1\n",
    "\n",
    "    print('It took {} seconds to calculate the Mandelbrot graph.'.format(mandel_time))\n",
    "    print('It took {} seconds to dump the image.'.format(dump_time))"
   ]
  },
  {
   "cell_type": "code",
   "execution_count": null,
   "metadata": {},
   "outputs": [],
   "source": []
  }
 ],
 "metadata": {
  "kernelspec": {
   "display_name": "pycuda",
   "language": "python",
   "name": "python3"
  },
  "language_info": {
   "codemirror_mode": {
    "name": "ipython",
    "version": 3
   },
   "file_extension": ".py",
   "mimetype": "text/x-python",
   "name": "python",
   "nbconvert_exporter": "python",
   "pygments_lexer": "ipython3",
   "version": "3.8.16"
  },
  "orig_nbformat": 4,
  "vscode": {
   "interpreter": {
    "hash": "33982229682c888955ca524121202fe70bc1f8616e2a0962e61b4bee7840fbc6"
   }
  }
 },
 "nbformat": 4,
 "nbformat_minor": 2
}
