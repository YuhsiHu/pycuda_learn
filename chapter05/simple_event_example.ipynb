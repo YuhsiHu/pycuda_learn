{
 "cells": [
  {
   "cell_type": "code",
   "execution_count": 2,
   "metadata": {},
   "outputs": [
    {
     "name": "stdout",
     "output_type": "stream",
     "text": [
      "Has the kernel started yet? True\n",
      "Has the kernel ended yet? True\n",
      "Kernel execution time in milliseconds: 809.214355 \n"
     ]
    }
   ],
   "source": [
    "import pycuda.autoinit\n",
    "import pycuda.driver as drv\n",
    "from pycuda import gpuarray\n",
    "from pycuda.compiler import SourceModule\n",
    "import numpy as np\n",
    "from time import time\n",
    "\n",
    "ker = SourceModule(\"\"\"       \n",
    "__global__ void mult_ker(float * array, int array_len)\n",
    "{\n",
    "     int thd = blockIdx.x*blockDim.x + threadIdx.x;\n",
    "     int num_iters = array_len / blockDim.x;\n",
    "     for(int j=0; j < num_iters; j++)\n",
    "     {\n",
    "         int i = j * blockDim.x + thd;\n",
    "         for(int k = 0; k < 50; k++)\n",
    "         {\n",
    "              array[i] *= 2.0;\n",
    "              array[i] /= 2.0;\n",
    "         }\n",
    "     }\n",
    "}\n",
    "\"\"\")\n",
    "\n",
    "mult_ker = ker.get_function('mult_ker')\n",
    "\n",
    "array_len = 100*1024**2\n",
    "\n",
    "data = np.random.randn(array_len).astype('float32')\n",
    "data_gpu = gpuarray.to_gpu(data)\n",
    "# 创建2个事件对象，一个用于启动内核函数的运行，一个用于终止内核函数的运行\n",
    "start_event = drv.Event()\n",
    "end_event = drv.Event()\n",
    "# 通过事件记录函数标记start_event在执行流中的位置\n",
    "start_event.record()\n",
    "mult_ker(data_gpu, np.int32(array_len), block=(64,1,1), grid=(1,1,1))\n",
    "# 通过事件记录函数标记end_event在执行流中的位置\n",
    "end_event.record()\n",
    "\n",
    "end_event.synchronize()\n",
    "\n",
    "print('Has the kernel started yet? {}'.format(start_event.query()))\n",
    "print('Has the kernel ended yet? {}'.format(end_event.query()))\n",
    "# 计算两个事件之间的间隔，单位为毫秒\n",
    "print('Kernel execution time in milliseconds: %f ' % start_event.time_till(end_event))"
   ]
  },
  {
   "cell_type": "code",
   "execution_count": null,
   "metadata": {},
   "outputs": [],
   "source": []
  }
 ],
 "metadata": {
  "kernelspec": {
   "display_name": "pycuda",
   "language": "python",
   "name": "python3"
  },
  "language_info": {
   "codemirror_mode": {
    "name": "ipython",
    "version": 3
   },
   "file_extension": ".py",
   "mimetype": "text/x-python",
   "name": "python",
   "nbconvert_exporter": "python",
   "pygments_lexer": "ipython3",
   "version": "3.8.16"
  },
  "orig_nbformat": 4,
  "vscode": {
   "interpreter": {
    "hash": "33982229682c888955ca524121202fe70bc1f8616e2a0962e61b4bee7840fbc6"
   }
  }
 },
 "nbformat": 4,
 "nbformat_minor": 2
}
