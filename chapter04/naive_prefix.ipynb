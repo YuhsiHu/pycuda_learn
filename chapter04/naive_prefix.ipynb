{
 "cells": [
  {
   "attachments": {},
   "cell_type": "markdown",
   "metadata": {},
   "source": [
    "# 并行前缀算法的实现\n",
    "简单来说，并行前缀算法要做的事情就是给定一种二元运算符，以及一组元素，计算它们的运算结果。我们希望保留部分运算结果，并行前缀算法的目的就是生成n次求和运算的结果所组成的集合。\n",
    "\n",
    "下面实现的是一个朴素并行前缀算法，它不仅假设输入元素个数为n，还进一步假设n是2的k次幂，同时在n个处理器（或n个线程）上并行运行这个算法。其时间复杂度为O(log n)。\n"
   ]
  },
  {
   "cell_type": "code",
   "execution_count": 2,
   "metadata": {},
   "outputs": [
    {
     "name": "stdout",
     "output_type": "stream",
     "text": [
      "-2.8472944374569846 -2.847294437456995\n",
      "Does our kernel work correctly? : True\n"
     ]
    }
   ],
   "source": [
    "import pycuda.autoinit\n",
    "import pycuda.driver as drv\n",
    "import numpy as np\n",
    "from pycuda import gpuarray\n",
    "from pycuda.compiler import SourceModule\n",
    "from time import time\n",
    "# this is a naive parallel prefix-sum kernel that uses shared memory\n",
    "naive_ker = SourceModule(\"\"\"\n",
    "__global__ void naive_prefix(double *vec, double *out)\n",
    "{\n",
    "     __shared__ double sum_buf[1024];     \n",
    "     int tid = threadIdx.x;     \n",
    "     sum_buf[tid] = vec[tid];\n",
    "     \n",
    "     // begin parallel prefix sum algorithm\n",
    "     int iter = 1;\n",
    "     for (int i=0; i < 10; i++)\n",
    "     {\n",
    "         __syncthreads();\n",
    "         if (tid >= iter )\n",
    "         {\n",
    "             sum_buf[tid] = sum_buf[tid] + sum_buf[tid - iter];            \n",
    "         }\n",
    "         \n",
    "         iter *= 2;\n",
    "     }\n",
    "         \n",
    "    __syncthreads();\n",
    "    out[tid] = sum_buf[tid];\n",
    "    __syncthreads();\n",
    "        \n",
    "}\n",
    "\"\"\")\n",
    "naive_gpu = naive_ker.get_function(\"naive_prefix\")\n",
    "    \n",
    "\n",
    "if __name__ == '__main__':    \n",
    "    testvec = np.random.randn(1024).astype(np.float64)\n",
    "    testvec_gpu = gpuarray.to_gpu(testvec)\n",
    "    \n",
    "    outvec_gpu = gpuarray.empty_like(testvec_gpu)\n",
    "\n",
    "    naive_gpu( testvec_gpu, outvec_gpu, block=(1024,1,1), grid=(1,1,1))\n",
    "    \n",
    "    total_sum = sum(testvec)\n",
    "    total_sum_gpu = outvec_gpu[-1].get()\n",
    "\n",
    "    print (\"Does our kernel work correctly? : {}\".format(np.allclose(total_sum_gpu , total_sum) ))"
   ]
  },
  {
   "cell_type": "code",
   "execution_count": null,
   "metadata": {},
   "outputs": [],
   "source": []
  }
 ],
 "metadata": {
  "kernelspec": {
   "display_name": "pycuda",
   "language": "python",
   "name": "python3"
  },
  "language_info": {
   "codemirror_mode": {
    "name": "ipython",
    "version": 3
   },
   "file_extension": ".py",
   "mimetype": "text/x-python",
   "name": "python",
   "nbconvert_exporter": "python",
   "pygments_lexer": "ipython3",
   "version": "3.8.16"
  },
  "orig_nbformat": 4,
  "vscode": {
   "interpreter": {
    "hash": "33982229682c888955ca524121202fe70bc1f8616e2a0962e61b4bee7840fbc6"
   }
  }
 },
 "nbformat": 4,
 "nbformat_minor": 2
}
