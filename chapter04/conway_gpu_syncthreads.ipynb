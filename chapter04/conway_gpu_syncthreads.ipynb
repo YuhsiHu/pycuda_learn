{
 "cells": [
  {
   "attachments": {},
   "cell_type": "markdown",
   "metadata": {},
   "source": [
    "# 康威生命游戏\n",
    "如果我们希望重写内核函数使其可以对给定的细胞方格迭代指定的次数，这样就无需通过主机多次运行这个内核函数了。乍一看，好像没什么难度——给内核函数添加一个整数参数，用于表示迭代次数，同时加一个for循环来执行。但是，这样会导致竞态条件，即多个线程读写同一个内存地址。\n",
    "\n",
    "因此我们需要线程同步与线程通信的实现，我们使用_syncthreads来避免竞态条件。\n"
   ]
  },
  {
   "cell_type": "code",
   "execution_count": 7,
   "metadata": {},
   "outputs": [
    {
     "data": {
      "image/png": "[encoded data removed]",
      "text/plain": [
       "<Figure size 640x480 with 1 Axes>"
      ]
     },
     "metadata": {},
     "output_type": "display_data"
    }
   ],
   "source": [
    "# Iterative version of Conway's game of life in Python / CUDA C\n",
    "# written by Brian Tuomanen for \"Hands on GPU Programming with Python and CUDA\"\n",
    "\n",
    "import pycuda.autoinit\n",
    "import pycuda.driver as drv\n",
    "from pycuda import gpuarray\n",
    "from pycuda.compiler import SourceModule\n",
    "import numpy as np\n",
    "import matplotlib.pyplot as plt \n",
    "\n",
    "\n",
    "ker = SourceModule(\"\"\"\n",
    "#define _X  ( threadIdx.x + blockIdx.x * blockDim.x )\n",
    "#define _Y  ( threadIdx.y + blockIdx.y * blockDim.y )\n",
    "#define _WIDTH  ( blockDim.x * gridDim.x )\n",
    "#define _HEIGHT ( blockDim.y * gridDim.y  )\n",
    "#define _XM(x)  ( (x + _WIDTH) % _WIDTH )\n",
    "#define _YM(y)  ( (y + _HEIGHT) % _HEIGHT )\n",
    "#define _INDEX(x,y)  ( _XM(x)  + _YM(y) * _WIDTH )\n",
    "// return the number of living neighbors for a given cell                \n",
    "__device__ int nbrs(int x, int y, int * in)\n",
    "{\n",
    "     return ( in[ _INDEX(x -1, y+1) ] + in[ _INDEX(x-1, y) ] + in[ _INDEX(x-1, y-1) ] \\\n",
    "                   + in[ _INDEX(x, y+1)] + in[_INDEX(x, y - 1)] \\\n",
    "                   + in[ _INDEX(x+1, y+1) ] + in[ _INDEX(x+1, y) ] + in[ _INDEX(x+1, y-1) ] );\n",
    "}\n",
    "__global__ void conway_ker(int * lattice, int iters)\n",
    "{\n",
    "   // x, y are the appropriate values for the cell covered by this thread\n",
    "   int x = _X, y = _Y;\n",
    "   \n",
    "   for (int i = 0; i < iters; i++)\n",
    "   {\n",
    "   \n",
    "       // count the number of neighbors around the current cell\n",
    "       int n = nbrs(x, y, lattice);\n",
    "       \n",
    "       int cell_value;\n",
    "                       \n",
    "        \n",
    "        // if the current cell is alive, then determine if it lives or dies for the next generation.\n",
    "        if ( lattice[_INDEX(x,y)] == 1)\n",
    "           switch(n)\n",
    "           {\n",
    "              // if the cell is alive: it remains alive only if it has 2 or 3 neighbors.\n",
    "              case 2:\n",
    "              case 3: cell_value = 1;\n",
    "                      break;\n",
    "              default: cell_value = 0;                   \n",
    "           }\n",
    "        else if( lattice[_INDEX(x,y)] == 0 )\n",
    "             switch(n)\n",
    "             {\n",
    "                // a dead cell comes to life only if it has 3 neighbors that are alive.\n",
    "                case 3: cell_value = 1;\n",
    "                        break;\n",
    "                default: cell_value = 0;         \n",
    "             }\n",
    "             \n",
    "        __syncthreads();\n",
    "        lattice[_INDEX(x,y)] = cell_value;\n",
    "        __syncthreads(); \n",
    "    }\n",
    "         \n",
    "}\n",
    "\"\"\")\n",
    "\n",
    "\n",
    "conway_ker = ker.get_function(\"conway_ker\")\n",
    "\n",
    "\n",
    "if __name__ == '__main__':\n",
    "    # set lattice size\n",
    "    N = 32\n",
    "    \n",
    "    lattice = np.int32( np.random.choice([1,0], N*N, p=[0.25, 0.75]).reshape(N, N) )\n",
    "    lattice_gpu = gpuarray.to_gpu(lattice)\n",
    "    conway_ker(lattice_gpu, np.int32(100000), grid=(1,1,1), block=(32,32,1))\n",
    "    fig = plt.figure(1)\n",
    "    plt.imshow(lattice_gpu.get())\n",
    "    plt.show()"
   ]
  },
  {
   "cell_type": "code",
   "execution_count": null,
   "metadata": {},
   "outputs": [],
   "source": []
  }
 ],
 "metadata": {
  "kernelspec": {
   "display_name": "pycuda",
   "language": "python",
   "name": "python3"
  },
  "language_info": {
   "codemirror_mode": {
    "name": "ipython",
    "version": 3
   },
   "file_extension": ".py",
   "mimetype": "text/x-python",
   "name": "python",
   "nbconvert_exporter": "python",
   "pygments_lexer": "ipython3",
   "version": "3.8.16"
  },
  "orig_nbformat": 4,
  "vscode": {
   "interpreter": {
    "hash": "33982229682c888955ca524121202fe70bc1f8616e2a0962e61b4bee7840fbc6"
   }
  }
 },
 "nbformat": 4,
 "nbformat_minor": 2
}
